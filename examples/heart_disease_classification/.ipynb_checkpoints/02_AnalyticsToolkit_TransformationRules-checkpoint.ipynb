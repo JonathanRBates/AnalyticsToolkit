{
 "cells": [
  {
   "cell_type": "code",
   "execution_count": 5,
   "metadata": {
    "collapsed": true
   },
   "outputs": [],
   "source": [
    "import pandas as pd\n",
    "import pickle as pk\n",
    "\n",
    "import sys\n",
    "sys.path.append(r'C:\\Users\\jb2428\\Desktop\\python\\AnalyticsToolkit\\analyticstk')\n",
    "import analyticstk as atk"
   ]
  },
  {
   "cell_type": "markdown",
   "metadata": {},
   "source": [
    "## Heart Disease Data"
   ]
  },
  {
   "cell_type": "code",
   "execution_count": 14,
   "metadata": {
    "collapsed": true
   },
   "outputs": [],
   "source": [
    "f_main = r'data.csv' \n",
    "df = pd.read_csv(f_main)\n",
    "df.head(n=3)\n",
    "f_codebook = r'codebook.xlsx'    \n",
    "pd.read_excel(f_codebook)\n",
    "include_cols, tr = atk.get_transformation_rules(f_codebook) \n",
    "X = df.loc[:,include_cols]"
   ]
  },
  {
   "cell_type": "code",
   "execution_count": 15,
   "metadata": {
    "collapsed": false
   },
   "outputs": [],
   "source": [
    "Xt, mapper, column_names = atk.preprocess_train_data(X, tr)    "
   ]
  },
  {
   "cell_type": "code",
   "execution_count": 16,
   "metadata": {
    "collapsed": false
   },
   "outputs": [
    {
     "name": "stdout",
     "output_type": "stream",
     "text": [
      "    age   cp  trestbps   chol  thalach  exang  oldpeak  slope\n",
      "0  63.0  1.0     145.0  233.0    150.0    0.0      2.3    3.0\n",
      "1  67.0  4.0     160.0  286.0    108.0    1.0      1.5    2.0\n",
      "2  67.0  4.0     120.0  229.0    129.0    1.0      2.6    2.0\n",
      "3  37.0  3.0     130.0  250.0    187.0    0.0      3.5    3.0\n",
      "4  41.0  2.0     130.0  204.0    172.0    0.0      1.4    1.0\n"
     ]
    }
   ],
   "source": [
    "print(X.head(n=5))"
   ]
  },
  {
   "cell_type": "code",
   "execution_count": 17,
   "metadata": {
    "collapsed": false
   },
   "outputs": [
    {
     "name": "stdout",
     "output_type": "stream",
     "text": [
      "        age  trestbps      chol   thalach   oldpeak  cp_2.0  cp_3.0  cp_4.0  \\\n",
      "0  0.948726  0.757525 -0.264900  0.017197  1.087338     0.0     0.0     0.0   \n",
      "1  1.392002  1.611220  0.760415 -1.821905  0.397182     0.0     0.0     1.0   \n",
      "2  1.392002 -0.665300 -0.342283 -0.902354  1.346147     0.0     0.0     1.0   \n",
      "3 -1.932564 -0.096170  0.063974  1.637359  2.122573     0.0     1.0     0.0   \n",
      "4 -1.489288 -0.096170 -0.825922  0.980537  0.310912     1.0     0.0     0.0   \n",
      "\n",
      "   cp_nan  slope_2.0  slope_3.0  slope_nan  exang  \n",
      "0     0.0        0.0        1.0        0.0    0.0  \n",
      "1     0.0        1.0        0.0        0.0    1.0  \n",
      "2     0.0        1.0        0.0        0.0    1.0  \n",
      "3     0.0        0.0        1.0        0.0    0.0  \n",
      "4     0.0        0.0        0.0        0.0    0.0  \n"
     ]
    }
   ],
   "source": [
    "print(pd.DataFrame(Xt,columns=column_names).head(n=5))"
   ]
  },
  {
   "cell_type": "markdown",
   "metadata": {},
   "source": [
    "## Synthetic Data"
   ]
  },
  {
   "cell_type": "code",
   "execution_count": 18,
   "metadata": {
    "collapsed": false
   },
   "outputs": [],
   "source": [
    "import numpy as np\n",
    "\n",
    "df_train = pd.DataFrame({\n",
    "         'A':[np.nan,100.,100.,100.,100.,100.,100.],\n",
    "         'B':[103.02,107.26,110.35,114.23,114.68,97.,np.nan], \n",
    "         'C':['big','small','big','small','small','medium','small'],\n",
    "         'D':[0,5,5,5,5,0,5],\n",
    "         'E':[0,1,0,np.nan,0,1,0],\n",
    "         'F':[0,1,1,1,1,0,1]\n",
    "       })\n",
    "\n",
    "\n",
    "df_test = pd.DataFrame({\n",
    "             'A':[100.,110.,110.,np.nan,110.,110.,110.],\n",
    "             'B':[.02,.26,.35,.23,.68,97.,np.nan], \n",
    "             'C':['small','small','big','small','giant','medium','small'],\n",
    "             'D':[0,np.nan,5,0,5,0,0],\n",
    "             'E':[0,0,np.nan,0,0,0,0],\n",
    "             'F':[0,0,0,0,0,0,0]\n",
    "           })    \n",
    "\n",
    "transformation_rules = {'continuous_vars': ['A', 'B'], \n",
    "    'categorical_vars': ['C', 'F'],\n",
    "    'binary_vars': ['D','E']}\n",
    "\n",
    "xt, mapper, column_names = atk.preprocess_train_data(df_train, transformation_rules)    \n",
    "xv = atk.preprocess_test_data(df_test, mapper, column_names)   "
   ]
  },
  {
   "cell_type": "code",
   "execution_count": 21,
   "metadata": {
    "collapsed": false
   },
   "outputs": [
    {
     "name": "stdout",
     "output_type": "stream",
     "text": [
      "     A         B  C_medium  C_small  C_nan  F_1.0  F_nan    D    E\n",
      "0  0.0 -0.817586       0.0      0.0    0.0    0.0    0.0  0.0  0.0\n",
      "1  0.0 -0.085729       0.0      1.0    0.0    1.0    0.0  1.0  1.0\n",
      "2  0.0  0.447630       0.0      0.0    0.0    1.0    0.0  1.0  0.0\n",
      "3  0.0  1.117349       0.0      1.0    0.0    1.0    0.0  1.0  0.0\n",
      "4  0.0  1.195022       0.0      1.0    0.0    1.0    0.0  1.0  0.0\n",
      "5  0.0 -1.856686       1.0      0.0    0.0    0.0    0.0  0.0  1.0\n",
      "6  0.0  0.000000       0.0      1.0    0.0    1.0    0.0  1.0  0.0\n"
     ]
    }
   ],
   "source": [
    "print(pd.DataFrame(xt, columns=column_names))"
   ]
  },
  {
   "cell_type": "code",
   "execution_count": 20,
   "metadata": {
    "collapsed": false
   },
   "outputs": [
    {
     "name": "stdout",
     "output_type": "stream",
     "text": [
      "      A          B  C_medium  C_small  C_nan  F_1.0  F_nan    D    E\n",
      "0   0.0 -18.596206       0.0      1.0    0.0    0.0    0.0  0.0  0.0\n",
      "1  10.0 -18.554780       0.0      1.0    0.0    0.0    0.0  1.0  0.0\n",
      "2  10.0 -18.539245       0.0      0.0    0.0    0.0    0.0  1.0  0.0\n",
      "3   0.0 -18.559958       0.0      1.0    0.0    0.0    0.0  0.0  0.0\n",
      "4  10.0 -18.482284       0.0      0.0    0.0    0.0    0.0  1.0  0.0\n",
      "5  10.0  -1.856686       1.0      0.0    0.0    0.0    0.0  0.0  0.0\n",
      "6  10.0   0.000000       0.0      1.0    0.0    0.0    0.0  0.0  0.0\n"
     ]
    }
   ],
   "source": [
    "print(xv)"
   ]
  },
  {
   "cell_type": "code",
   "execution_count": null,
   "metadata": {
    "collapsed": true
   },
   "outputs": [],
   "source": []
  }
 ],
 "metadata": {
  "kernelspec": {
   "display_name": "Python [default]",
   "language": "python",
   "name": "python3"
  },
  "language_info": {
   "codemirror_mode": {
    "name": "ipython",
    "version": 3
   },
   "file_extension": ".py",
   "mimetype": "text/x-python",
   "name": "python",
   "nbconvert_exporter": "python",
   "pygments_lexer": "ipython3",
   "version": "3.5.2"
  }
 },
 "nbformat": 4,
 "nbformat_minor": 1
}
